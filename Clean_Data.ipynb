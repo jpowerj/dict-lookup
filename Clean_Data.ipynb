{
 "cells": [
  {
   "cell_type": "code",
   "execution_count": 1,
   "id": "initial_id",
   "metadata": {
    "collapsed": true,
    "ExecuteTime": {
     "end_time": "2024-01-22T06:14:35.998929Z",
     "start_time": "2024-01-22T06:14:35.995522Z"
    }
   },
   "outputs": [],
   "source": [
    "import json"
   ]
  },
  {
   "cell_type": "code",
   "execution_count": 2,
   "outputs": [],
   "source": [
    "with open(\"dictionary.json\", 'r', encoding='utf-8') as infile:\n",
    "    data = json.load(infile)"
   ],
   "metadata": {
    "collapsed": false,
    "ExecuteTime": {
     "end_time": "2024-01-22T06:14:57.787731Z",
     "start_time": "2024-01-22T06:14:57.699893Z"
    }
   },
   "id": "1bc21ba6170e80a2"
  },
  {
   "cell_type": "code",
   "execution_count": 3,
   "outputs": [
    {
     "data": {
      "text/plain": "102217"
     },
     "execution_count": 3,
     "metadata": {},
     "output_type": "execute_result"
    }
   ],
   "source": [
    "len(data)"
   ],
   "metadata": {
    "collapsed": false,
    "ExecuteTime": {
     "end_time": "2024-01-22T06:15:02.614843Z",
     "start_time": "2024-01-22T06:15:02.609663Z"
    }
   },
   "id": "7121204a23b7286c"
  },
  {
   "cell_type": "code",
   "execution_count": 7,
   "outputs": [],
   "source": [
    "dict_keys = list(data.keys())"
   ],
   "metadata": {
    "collapsed": false,
    "ExecuteTime": {
     "end_time": "2024-01-22T06:15:38.324817Z",
     "start_time": "2024-01-22T06:15:38.322264Z"
    }
   },
   "id": "9f4af16d49c321c5"
  },
  {
   "cell_type": "code",
   "execution_count": 8,
   "outputs": [
    {
     "data": {
      "text/plain": "102217"
     },
     "execution_count": 8,
     "metadata": {},
     "output_type": "execute_result"
    }
   ],
   "source": [
    "len(dict_keys)"
   ],
   "metadata": {
    "collapsed": false,
    "ExecuteTime": {
     "end_time": "2024-01-22T06:15:42.061790Z",
     "start_time": "2024-01-22T06:15:42.052524Z"
    }
   },
   "id": "bed7e75d3cb0be37"
  },
  {
   "cell_type": "code",
   "execution_count": 10,
   "outputs": [],
   "source": [
    "dict_keys.sort()"
   ],
   "metadata": {
    "collapsed": false,
    "ExecuteTime": {
     "end_time": "2024-01-22T06:15:53.643449Z",
     "start_time": "2024-01-22T06:15:53.641443Z"
    }
   },
   "id": "644101030ca979b7"
  },
  {
   "cell_type": "code",
   "execution_count": 11,
   "outputs": [
    {
     "data": {
      "text/plain": "'-'"
     },
     "execution_count": 11,
     "metadata": {},
     "output_type": "execute_result"
    }
   ],
   "source": [
    "dict_keys[0]"
   ],
   "metadata": {
    "collapsed": false,
    "ExecuteTime": {
     "end_time": "2024-01-22T06:15:57.957996Z",
     "start_time": "2024-01-22T06:15:57.949920Z"
    }
   },
   "id": "891aeb42f602c442"
  },
  {
   "cell_type": "code",
   "execution_count": 20,
   "outputs": [
    {
     "data": {
      "text/plain": "['a',\n 'a b c',\n 'a cappella',\n 'a cheval',\n 'a fortiori',\n 'a mensa et thoro',\n 'a posteriori',\n 'a priori',\n 'a-',\n 'a-good',\n 'a-mornings',\n 'a-sea',\n 'a-tiptoe',\n 'aam',\n 'aard-vark',\n 'aard-wolf',\n 'aaronic',\n 'aaronical',\n 'ab',\n 'ab-',\n 'abaca',\n 'abacinate',\n 'abacination',\n 'abaciscus',\n 'abacist']"
     },
     "execution_count": 20,
     "metadata": {},
     "output_type": "execute_result"
    }
   ],
   "source": [
    "start = 99\n",
    "dict_keys[start:start+25]"
   ],
   "metadata": {
    "collapsed": false,
    "ExecuteTime": {
     "end_time": "2024-01-22T06:17:14.091062Z",
     "start_time": "2024-01-22T06:17:14.087462Z"
    }
   },
   "id": "e8ed15e431d3eb6e"
  },
  {
   "cell_type": "code",
   "execution_count": 21,
   "outputs": [],
   "source": [
    "cleaned_keys = dict_keys[start:]"
   ],
   "metadata": {
    "collapsed": false,
    "ExecuteTime": {
     "end_time": "2024-01-22T06:17:21.054274Z",
     "start_time": "2024-01-22T06:17:21.051768Z"
    }
   },
   "id": "1f16b7a854483bdf"
  },
  {
   "cell_type": "code",
   "execution_count": 22,
   "outputs": [
    {
     "data": {
      "text/plain": "102118"
     },
     "execution_count": 22,
     "metadata": {},
     "output_type": "execute_result"
    }
   ],
   "source": [
    "len(cleaned_keys)"
   ],
   "metadata": {
    "collapsed": false,
    "ExecuteTime": {
     "end_time": "2024-01-22T06:17:25.824106Z",
     "start_time": "2024-01-22T06:17:25.815939Z"
    }
   },
   "id": "422d43ee7a461597"
  },
  {
   "cell_type": "code",
   "execution_count": 24,
   "outputs": [],
   "source": [
    "with open('dict_clean.json', 'w', encoding='utf-8') as outfile:\n",
    "    json.dump(cleaned_keys, outfile)"
   ],
   "metadata": {
    "collapsed": false,
    "ExecuteTime": {
     "end_time": "2024-01-22T06:18:05.249994Z",
     "start_time": "2024-01-22T06:18:05.203300Z"
    }
   },
   "id": "2047938a53600eb5"
  },
  {
   "cell_type": "code",
   "execution_count": 26,
   "outputs": [],
   "source": [
    "# Now a plaintext version just, one word per line\n",
    "with open('dict_clean.txt', 'w', encoding='utf-8') as outfile:\n",
    "    outfile.writelines([ck + \"\\n\" for ck in cleaned_keys])"
   ],
   "metadata": {
    "collapsed": false,
    "ExecuteTime": {
     "end_time": "2024-01-22T06:19:58.288528Z",
     "start_time": "2024-01-22T06:19:58.267608Z"
    }
   },
   "id": "1f65fac6ccb95248"
  },
  {
   "cell_type": "code",
   "execution_count": null,
   "outputs": [],
   "source": [],
   "metadata": {
    "collapsed": false
   },
   "id": "6926fc0e370b3abe"
  }
 ],
 "metadata": {
  "kernelspec": {
   "display_name": "Python 3",
   "language": "python",
   "name": "python3"
  },
  "language_info": {
   "codemirror_mode": {
    "name": "ipython",
    "version": 2
   },
   "file_extension": ".py",
   "mimetype": "text/x-python",
   "name": "python",
   "nbconvert_exporter": "python",
   "pygments_lexer": "ipython2",
   "version": "2.7.6"
  }
 },
 "nbformat": 4,
 "nbformat_minor": 5
}
